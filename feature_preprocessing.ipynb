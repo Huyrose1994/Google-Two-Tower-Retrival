{
 "cells": [
  {
   "cell_type": "markdown",
   "metadata": {},
   "source": [
    "# Feature Preprocessing"
   ]
  },
  {
   "cell_type": "markdown",
   "metadata": {},
   "source": [
    "- Raw features will usually not be immediately usable in a model\n",
    "- First step:\n",
    "    - Preparing the features\n",
    "        - User and item ids may be strings (titles, usernames) or large, noncontiguous integers (database IDs)\n",
    "        - Item descriptions (Raw text)\n",
    "        - Interaction timestamps (Raw Unix timestamps)\n",
    "    - Transform in order to be useful in building models:\n",
    "        - User & items ids - Translated into embedding vectors\n",
    "        (High-dimensional numerical representations that are adjusted during training)\n",
    "        (Help the model predict its objective better)\n",
    "        - Raw text - Tokenized (Split into smaller parts such as individual words) and translated into embedding\n",
    "        - Numerical features - Normalized (Values lie in a small interval around 0)\n",
    "(TensowFlow - Can make preprocessing part of our model rather than separate preprocessing step)\n",
    "(Convenient + Ensure pre-processing is the same during training and during serving)"
   ]
  },
  {
   "cell_type": "code",
   "execution_count": 1,
   "metadata": {},
   "outputs": [
    {
     "name": "stderr",
     "output_type": "stream",
     "text": [
      "c:\\Users\\huynn5\\AppData\\Local\\Programs\\Python\\Python310\\lib\\site-packages\\tqdm\\auto.py:21: TqdmWarning: IProgress not found. Please update jupyter and ipywidgets. See https://ipywidgets.readthedocs.io/en/stable/user_install.html\n",
      "  from .autonotebook import tqdm as notebook_tqdm\n"
     ]
    }
   ],
   "source": [
    "import pprint\n",
    "import tensorflow_datasets as tfds"
   ]
  },
  {
   "cell_type": "code",
   "execution_count": 5,
   "metadata": {},
   "outputs": [
    {
     "name": "stderr",
     "output_type": "stream",
     "text": [
      "WARNING:tensorflow:From c:\\Users\\huynn5\\AppData\\Local\\Programs\\Python\\Python310\\lib\\site-packages\\keras\\src\\losses.py:2976: The name tf.losses.sparse_softmax_cross_entropy is deprecated. Please use tf.compat.v1.losses.sparse_softmax_cross_entropy instead.\n",
      "\n"
     ]
    },
    {
     "name": "stdout",
     "output_type": "stream",
     "text": [
      "{'bucketized_user_age': 45.0,\n",
      " 'movie_genres': array([7], dtype=int64),\n",
      " 'movie_id': b'357',\n",
      " 'movie_title': b\"One Flew Over the Cuckoo's Nest (1975)\",\n",
      " 'raw_user_age': 46.0,\n",
      " 'timestamp': 879024327,\n",
      " 'user_gender': True,\n",
      " 'user_id': b'138',\n",
      " 'user_occupation_label': 4,\n",
      " 'user_occupation_text': b'doctor',\n",
      " 'user_rating': 4.0,\n",
      " 'user_zip_code': b'53211'}\n"
     ]
    }
   ],
   "source": [
    "ratings =tfds.load('movielens/100k-ratings', split = 'train')\n",
    "\n",
    "for x in ratings.take(1).as_numpy_iterator():\n",
    "    pprint.pprint(x)"
   ]
  },
  {
   "cell_type": "markdown",
   "metadata": {},
   "source": [
    "- Movie title - Useful as a movie identifier (Categorical)\n",
    "- User id - Useful as a user identifier (Categorical)\n",
    "- Timestamps - Model the effect of time (Continuous)\n"
   ]
  },
  {
   "cell_type": "markdown",
   "metadata": {},
   "source": [
    "## Turning categorical features into embeddings"
   ]
  },
  {
   "cell_type": "markdown",
   "metadata": {},
   "source": [
    "- A categorical feature\n",
    "    - A feature that does not express a continuous quantity\n",
    "    - Takes on 1 of a set of fixed values\n",
    "- Most DL express these feature by turning them into high-dimensional vectors\n",
    "    - During model training, the value of that vector is adjusted to help the\n",
    "    model predict its objective better\n",
    "- Example:\n",
    "    - Which User - Which Movie?\n",
    "    - Represent each user and each movie by an embedding vector\n",
    "    - Embedding take on random values but during training will adjust\n",
    "    so that embeddings of users and the movies they watch end up closer together\n",
    "- Taking raw categorical features and turning them into embeddings is a 2-step process:\n",
    "    - Translate raw values into a range of contiguous integers\n",
    "    (Normally by building a mapping that maps raw values to integers)\n",
    "    - Take these integers and turn them into embeddings"
   ]
  },
  {
   "cell_type": "markdown",
   "metadata": {},
   "source": []
  }
 ],
 "metadata": {
  "kernelspec": {
   "display_name": "Python 3",
   "language": "python",
   "name": "python3"
  },
  "language_info": {
   "codemirror_mode": {
    "name": "ipython",
    "version": 3
   },
   "file_extension": ".py",
   "mimetype": "text/x-python",
   "name": "python",
   "nbconvert_exporter": "python",
   "pygments_lexer": "ipython3",
   "version": "3.10.11"
  }
 },
 "nbformat": 4,
 "nbformat_minor": 2
}
