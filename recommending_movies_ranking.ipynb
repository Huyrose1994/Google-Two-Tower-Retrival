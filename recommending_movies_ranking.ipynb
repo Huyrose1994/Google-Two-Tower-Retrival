{
 "cells": [
  {
   "cell_type": "code",
   "execution_count": 5,
   "metadata": {},
   "outputs": [],
   "source": [
    "import os\n",
    "import pprint\n",
    "import tempfile\n",
    "\n",
    "from typing import Dict, Text\n",
    "\n",
    "import numpy as np\n",
    "import tensorflow as tf\n",
    "import tensorflow_datasets as tfds\n",
    "import tensorflow_recommenders as tfrs"
   ]
  },
  {
   "cell_type": "markdown",
   "metadata": {},
   "source": [
    "# Preparing the dataset\n",
    "\n",
    "- Use the same data as the retrieval tutorial\n",
    "- Keep the ratings"
   ]
  },
  {
   "cell_type": "code",
   "execution_count": 6,
   "metadata": {},
   "outputs": [],
   "source": [
    "ratings = tfds.load('movielens/100k-ratings', split = 'train')\n",
    "\n",
    "ratings = ratings.map(lambda x: {\n",
    "    'movie_title': x['movie_title'],\n",
    "    'user_id': x['user_id'],\n",
    "    'user_rating': x['user_rating']\n",
    "})"
   ]
  },
  {
   "cell_type": "code",
   "execution_count": 8,
   "metadata": {},
   "outputs": [],
   "source": [
    "tf.random.set_seed(42)\n",
    "shuffled = ratings.shuffle(100_000, seed = 42, reshuffle_each_iteration = False)\n",
    "\n",
    "train = shuffled.take(80_000)\n",
    "test = shuffled.skip(80_000).take(20_000)"
   ]
  },
  {
   "cell_type": "markdown",
   "metadata": {},
   "source": [
    "- Figure out unique user ids and movie titles present in the data\n",
    "- Need to be able to map the raw values of our categorical features to embedding vectors\n",
    "    - Need a vocabulary that maps a raw feature value to an integer in a contiguous range: Allow us to look up the corresponding embeddings in our embedding tables"
   ]
  },
  {
   "cell_type": "code",
   "execution_count": 9,
   "metadata": {},
   "outputs": [],
   "source": [
    "movie_titles = ratings.batch(1_000_000).map(lambda x: x['movie_title'])\n",
    "user_ids = ratings.batch(1_000_000).map(lambda x: x['user_id'])\n",
    "\n",
    "unique_movie_titles = np.unique(np.concatenate(list(movie_titles)))\n",
    "unique_user_ids = np.unique(np.concatenate(list(user_ids)))"
   ]
  },
  {
   "cell_type": "markdown",
   "metadata": {},
   "source": [
    "# Implemeting a model"
   ]
  },
  {
   "cell_type": "markdown",
   "metadata": {},
   "source": [
    "- Architecture\n",
    "    - Ranking models: \n",
    "        - Dot not face the same efficiency constraints as retrieval models do\n",
    "        - Have a little more freedom in our choice of architectures"
   ]
  },
  {
   "cell_type": "code",
   "execution_count": 13,
   "metadata": {},
   "outputs": [],
   "source": [
    "class RankingModel(tf.keras.Model):\n",
    "    def __init__(self):\n",
    "        super().__init__()\n",
    "        embedding_dimension = 32\n",
    "\n",
    "        # Compute embeddings for users.\n",
    "        self.user_embeddings = tf.keras.Sequential([\n",
    "            tf.keras.layers.StringLookup(\n",
    "                vocabulary = unique_user_ids, mask_token = None\n",
    "            ),\n",
    "            tf.keras.layers.Embedding(\n",
    "                len(unique_user_ids) + 1, embedding_dimension\n",
    "            )\n",
    "        ])\n",
    "\n",
    "        # Compute embedding for movies.\n",
    "        self.movie_embedding = tf.keras.Sequential([\n",
    "            tf.keras.layers.StringLookup(\n",
    "                vocabulary = unique_movie_titles, mask_token = None\n",
    "            ),\n",
    "            tf.keras.layers.Embedding(\n",
    "                len(unique_movie_titles) + 1, embedding_dimension\n",
    "            )\n",
    "        ])\n",
    "\n",
    "        # Compute predictions\n",
    "        self.ratings = tf.keras.Sequential([\n",
    "            # Learn multiple dense layers.\n",
    "            tf.keras.layers.Dense(256, activation = 'relu'),\n",
    "            tf.keras.layers.Dense(64, activation = 'relu'),\n",
    "            # Make rating predictions in the final layer.\n",
    "            tf.keras.layers.Dense(1)\n",
    "        ])\n",
    "\n",
    "    def call(self, inputs):\n",
    "        user_id, movie_title = inputs\n",
    "\n",
    "        user_embedding = self.user_embeddings(user_id)\n",
    "        movie_embedding = self.movie_embedding(movie_title)\n",
    "\n",
    "        return self.ratings(tf.concat([user_embedding, movie_embedding], axis = 1))"
   ]
  },
  {
   "cell_type": "code",
   "execution_count": 14,
   "metadata": {},
   "outputs": [
    {
     "data": {
      "text/plain": [
       "<tf.Tensor: shape=(1, 1), dtype=float32, numpy=array([[-0.01269129]], dtype=float32)>"
      ]
     },
     "execution_count": 14,
     "metadata": {},
     "output_type": "execute_result"
    }
   ],
   "source": [
    "# Take user ids and movie titles\n",
    "# Outputs a predicted rating\n",
    "RankingModel()((['42'], [\"One Flew Over the Cuckoo's Nest (1975)\"]))"
   ]
  },
  {
   "cell_type": "markdown",
   "metadata": {},
   "source": [
    "# Loss and metrics\n",
    "\n",
    "- Loss used to train our model\n",
    "- TFRS has several loss layers and tasks to make this easy\n",
    "- Make use of the Ranking task object:\n",
    "    - A convenience wrapper that bundles together the loss function and metric computation\n",
    "    - Use with MeanSquaredError Keras loss in order to predict the ratings"
   ]
  },
  {
   "cell_type": "code",
   "execution_count": 16,
   "metadata": {},
   "outputs": [],
   "source": [
    "task = tfrs.tasks.Ranking(\n",
    "    loss = tf.keras.losses.MeanSquaredError(),\n",
    "    metrics = [tf.keras.metrics.RootMeanSquaredError()]\n",
    ")"
   ]
  },
  {
   "cell_type": "markdown",
   "metadata": {},
   "source": [
    "- The task itself is a Keras layer that takes true and predicted as arguments\n",
    "    - Returns the computed loss"
   ]
  },
  {
   "cell_type": "markdown",
   "metadata": {},
   "source": [
    "# The full model"
   ]
  },
  {
   "cell_type": "code",
   "execution_count": 18,
   "metadata": {},
   "outputs": [],
   "source": [
    "class MovielensModel(tfrs.models.Model):\n",
    "    def __init__(self):\n",
    "        super().__init__()\n",
    "        self.ranking_model: tf.keras.Model = RankingModel()\n",
    "        self.task: tf.keras.layers.Layer = tfrs.tasks.Ranking(\n",
    "            loss = tf.keras.losses.MeanSquaredError(),\n",
    "            metrics = [tf.keras.metrics.RootMeanSquaredError()]\n",
    "        )\n",
    "    \n",
    "    def call(self, features: Dict[str, tf.Tensor]) -> tf.Tensor:\n",
    "        return self.ranking_model(\n",
    "            (features['user_id'], features['movie_title'])\n",
    "        )\n",
    "    \n",
    "    def compute_loss(self, features: Dict[Text, tf.Tensor], training = False) -> tf.Tensor:\n",
    "        labels = features.pop('user_rating')\n",
    "        \n",
    "        rating_predictions = self(features)\n",
    "\n",
    "        # The task computes the loss and the metrics.\n",
    "        return self.task(labels = labels, predictions = rating_predictions)"
   ]
  },
  {
   "cell_type": "markdown",
   "metadata": {},
   "source": [
    "# Fitting and evaluating"
   ]
  },
  {
   "cell_type": "code",
   "execution_count": 20,
   "metadata": {},
   "outputs": [],
   "source": [
    "# Instantitate the model\n",
    "model = MovielensModel()\n",
    "model.compile(optimizer = tf.keras.optimizers.Adagrad(learning_rate=0.1))"
   ]
  },
  {
   "cell_type": "code",
   "execution_count": 21,
   "metadata": {},
   "outputs": [],
   "source": [
    "# Shuffle, batch and cache the training and evaluation data\n",
    "cached_train = train.shuffle(100_000).batch(8192).cache()\n",
    "cached_test = test.batch(4096).cache()"
   ]
  },
  {
   "cell_type": "code",
   "execution_count": 22,
   "metadata": {},
   "outputs": [
    {
     "name": "stdout",
     "output_type": "stream",
     "text": [
      "Epoch 1/3\n",
      "10/10 [==============================] - 2s 16ms/step - root_mean_squared_error: 2.0295 - loss: 3.8082 - regularization_loss: 0.0000e+00 - total_loss: 3.8082\n",
      "Epoch 2/3\n",
      "10/10 [==============================] - 0s 13ms/step - root_mean_squared_error: 1.2123 - loss: 1.4715 - regularization_loss: 0.0000e+00 - total_loss: 1.4715\n",
      "Epoch 3/3\n",
      "10/10 [==============================] - 0s 10ms/step - root_mean_squared_error: 1.1403 - loss: 1.2979 - regularization_loss: 0.0000e+00 - total_loss: 1.2979\n"
     ]
    },
    {
     "data": {
      "text/plain": [
       "<keras.src.callbacks.History at 0x2562b7e16f0>"
      ]
     },
     "execution_count": 22,
     "metadata": {},
     "output_type": "execute_result"
    }
   ],
   "source": [
    "# Train the model\n",
    "model.fit(cached_train, epochs = 3)"
   ]
  },
  {
   "cell_type": "code",
   "execution_count": 23,
   "metadata": {},
   "outputs": [
    {
     "name": "stdout",
     "output_type": "stream",
     "text": [
      "5/5 [==============================] - 0s 16ms/step - root_mean_squared_error: 1.1143 - loss: 1.2371 - regularization_loss: 0.0000e+00 - total_loss: 1.2371\n"
     ]
    },
    {
     "data": {
      "text/plain": [
       "{'root_mean_squared_error': 1.114282250404358,\n",
       " 'loss': 1.2173455953598022,\n",
       " 'regularization_loss': 0,\n",
       " 'total_loss': 1.2173455953598022}"
      ]
     },
     "execution_count": 23,
     "metadata": {},
     "output_type": "execute_result"
    }
   ],
   "source": [
    "# Evaluate model on the test set\n",
    "model.evaluate(cached_test, return_dict = True)"
   ]
  },
  {
   "cell_type": "markdown",
   "metadata": {},
   "source": [
    "- Lower RMSE = Better predicting ratings"
   ]
  },
  {
   "cell_type": "markdown",
   "metadata": {},
   "source": [
    "# Testing the ranking model"
   ]
  },
  {
   "cell_type": "code",
   "execution_count": 25,
   "metadata": {},
   "outputs": [
    {
     "name": "stdout",
     "output_type": "stream",
     "text": [
      "Ratings:\n",
      "M*A*S*H (1970): [[3.760667]]\n",
      "Ratings:\n",
      "M*A*S*H (1970): [[3.760667]]\n",
      "Dances with Wolves (1990): [[3.7566967]]\n",
      "Ratings:\n",
      "M*A*S*H (1970): [[3.760667]]\n",
      "Dances with Wolves (1990): [[3.7566967]]\n",
      "Speed (1994): [[3.6384823]]\n"
     ]
    }
   ],
   "source": [
    "test_ratings = {}\n",
    "test_movie_titles = [\"M*A*S*H (1970)\", \"Dances with Wolves (1990)\", \"Speed (1994)\"]\n",
    "for movie_title in test_movie_titles:\n",
    "    test_ratings[movie_title] = model({\n",
    "        'user_id': np.array(['42']),\n",
    "        'movie_title': np.array([movie_title])\n",
    "    })\n",
    "    print('Ratings:')\n",
    "    for title, score in sorted(test_ratings.items(), key = lambda x: x[1], reverse = True):\n",
    "        print(f'{title}: {score}')"
   ]
  },
  {
   "cell_type": "markdown",
   "metadata": {},
   "source": [
    "# Exporting for serving"
   ]
  },
  {
   "cell_type": "code",
   "execution_count": 26,
   "metadata": {},
   "outputs": [
    {
     "name": "stdout",
     "output_type": "stream",
     "text": [
      "INFO:tensorflow:Assets written to: export\\assets\n"
     ]
    },
    {
     "name": "stderr",
     "output_type": "stream",
     "text": [
      "INFO:tensorflow:Assets written to: export\\assets\n"
     ]
    }
   ],
   "source": [
    "tf.saved_model.save(model, 'export')"
   ]
  },
  {
   "cell_type": "code",
   "execution_count": 27,
   "metadata": {},
   "outputs": [
    {
     "data": {
      "text/plain": [
       "array([[3.6384823]], dtype=float32)"
      ]
     },
     "execution_count": 27,
     "metadata": {},
     "output_type": "execute_result"
    }
   ],
   "source": [
    "loaded = tf.saved_model.load('export')\n",
    "loaded({\n",
    "    'user_id': np.array(['42']),\n",
    "    'movie_title': [\"Speed (1994)\"]\n",
    "}).numpy()"
   ]
  },
  {
   "cell_type": "markdown",
   "metadata": {},
   "source": [
    "# Convert the model to TensorFlow Lite"
   ]
  },
  {
   "cell_type": "markdown",
   "metadata": {},
   "source": [
    "- Converted the trained ranking model to TensorFlow Lite\n",
    "- Run it on-device (for better user privacy privacy and lower latency)"
   ]
  },
  {
   "cell_type": "code",
   "execution_count": 28,
   "metadata": {},
   "outputs": [
    {
     "data": {
      "text/plain": [
       "544544"
      ]
     },
     "execution_count": 28,
     "metadata": {},
     "output_type": "execute_result"
    }
   ],
   "source": [
    "converter = tf.lite.TFLiteConverter.from_saved_model('export')\n",
    "tflite_model = converter.convert()\n",
    "open('converted_model.tflite', 'wb').write(tflite_model)"
   ]
  },
  {
   "cell_type": "markdown",
   "metadata": {},
   "source": [
    "- Can run it like regular TensorFlow Lite models"
   ]
  },
  {
   "cell_type": "code",
   "execution_count": 30,
   "metadata": {},
   "outputs": [
    {
     "name": "stdout",
     "output_type": "stream",
     "text": [
      "[[3.6384823]]\n"
     ]
    }
   ],
   "source": [
    "intepreter = tf.lite.Interpreter(model_path = 'converted_model.tflite')\n",
    "intepreter.allocate_tensors()\n",
    "\n",
    "# Get input and output tensors.\n",
    "input_details = intepreter.get_input_details()\n",
    "output_details = intepreter.get_output_details()\n",
    "\n",
    "# Test the model.\n",
    "if input_details[0]['name'] == 'serving_default_movie_title:0':\n",
    "    intepreter.set_tensor(input_details[0]['index'], np.array([\"Speed (1994)\"]))\n",
    "    intepreter.set_tensor(input_details[1]['index'], np.array(['42']))\n",
    "else:\n",
    "    intepreter.set_tensor(input_details[0]['index'], np.array(['42']))\n",
    "    intepreter.set_tensor(input_details[1]['index'], np.array([\"Speed (1994)\"]))\n",
    "intepreter.invoke()\n",
    "\n",
    "rating = intepreter.get_tensor(output_details[0]['index'])\n",
    "print(rating)"
   ]
  },
  {
   "cell_type": "code",
   "execution_count": null,
   "metadata": {},
   "outputs": [],
   "source": []
  }
 ],
 "metadata": {
  "kernelspec": {
   "display_name": "Python 3",
   "language": "python",
   "name": "python3"
  },
  "language_info": {
   "codemirror_mode": {
    "name": "ipython",
    "version": 3
   },
   "file_extension": ".py",
   "mimetype": "text/x-python",
   "name": "python",
   "nbconvert_exporter": "python",
   "pygments_lexer": "ipython3",
   "version": "3.10.11"
  }
 },
 "nbformat": 4,
 "nbformat_minor": 2
}
